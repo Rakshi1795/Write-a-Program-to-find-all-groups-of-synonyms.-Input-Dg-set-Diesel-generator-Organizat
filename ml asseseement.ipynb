{
 "cells": [
  {
   "cell_type": "code",
   "execution_count": 1,
   "id": "609f6cc4",
   "metadata": {},
   "outputs": [],
   "source": [
    "Input: [{\"Dg set\": \"Diesel generator\"}, {\"Organization\": \"Organisation\"}, \n",
    "            {\"Group\": \"Organization\"}, {\"Orange\": \"Kinnu\"}, {\"Orange\": \"narangi\"}]\n"
   ]
  },
  {
   "cell_type": "code",
   "execution_count": 2,
   "id": "20776d1d",
   "metadata": {},
   "outputs": [],
   "source": [
    "Output: [[\"Organization\", \"Organisation\", \"Group\"], [\"Dg set\", \"Diesel generator\"], [\"Orange\", \"Kinnu\", \"narangi\"]]"
   ]
  },
  {
   "cell_type": "code",
   "execution_count": 3,
   "id": "ab0e3253",
   "metadata": {},
   "outputs": [
    {
     "name": "stdout",
     "output_type": "stream",
     "text": [
      "[['Dg set', 'Diesel generator'], ['Organization', 'Organisation', 'Group'], ['Orange', 'Kinnu', 'narangi']]\n"
     ]
    }
   ],
   "source": [
    "def solution(input):\n",
    "    output = [[list(input[0].keys())[0], list(input[0].values())[0]]]\n",
    "    for i in range(1, len(input)):\n",
    "        group = []\n",
    "        key = list(input[i].keys())[0]\n",
    "        value = list(input[i].values())[0]\n",
    "        flag = 0\n",
    "        for j in range(len(output)):\n",
    "            if key in output[j]:\n",
    "                output[j].append(value)\n",
    "                flag = 1\n",
    "                break\n",
    "            elif value in output[j]:\n",
    "                output[j].append(key)\n",
    "                flag = 1\n",
    "                break\n",
    "        if flag == 0:\n",
    "            group.append(key)\n",
    "            group.append(value)\n",
    "            output.append(group)\n",
    "    return output\n",
    "\n",
    "if __name__ == '__main__':\n",
    "    input = [{\"Dg set\": \"Diesel generator\"}, {\"Organization\": \"Organisation\"}, \n",
    "             {\"Group\": \"Organization\"}, {\"Orange\": \"Kinnu\"}, {\"Orange\": \"narangi\"}]\n",
    "    print(solution(input))"
   ]
  },
  {
   "cell_type": "code",
   "execution_count": null,
   "id": "ca6cc3d6",
   "metadata": {},
   "outputs": [],
   "source": []
  }
 ],
 "metadata": {
  "kernelspec": {
   "display_name": "Python 3 (ipykernel)",
   "language": "python",
   "name": "python3"
  },
  "language_info": {
   "codemirror_mode": {
    "name": "ipython",
    "version": 3
   },
   "file_extension": ".py",
   "mimetype": "text/x-python",
   "name": "python",
   "nbconvert_exporter": "python",
   "pygments_lexer": "ipython3",
   "version": "3.9.12"
  }
 },
 "nbformat": 4,
 "nbformat_minor": 5
}
